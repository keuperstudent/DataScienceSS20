{
  "nbformat": 4,
  "nbformat_minor": 0,
  "metadata": {
    "kernelspec": {
      "display_name": "Python 3",
      "language": "python",
      "name": "python3"
    },
    "language_info": {
      "codemirror_mode": {
        "name": "ipython",
        "version": 3
      },
      "file_extension": ".py",
      "mimetype": "text/x-python",
      "name": "python",
      "nbconvert_exporter": "python",
      "pygments_lexer": "ipython3",
      "version": "3.7.1"
    },
    "colab": {
      "name": "01_a_Jupyter-Intro.ipynb",
      "provenance": []
    }
  },
  "cells": [
    {
      "cell_type": "markdown",
      "metadata": {
        "id": "Pam74k5Yj2dF",
        "colab_type": "text"
      },
      "source": [
        "# Jupyter Lab - Web IDE \n",
        "* By Janis Keuper\n",
        "* Copyright: Creative Commons Attribution 3.0 Unported License. To view a copy of this license, visit http://creativecommons.org/licenses/by/3.0/"
      ]
    },
    {
      "cell_type": "code",
      "metadata": {
        "id": "B7WRHEhgj2dJ",
        "colab_type": "code",
        "colab": {},
        "outputId": "2426dc8f-9994-4718-8642-98674a644b0b"
      },
      "source": [
        "#check if notebook runs in colab\n",
        "import sys\n",
        "IN_COLAB = 'google.colab' in sys.modules\n",
        "print('running in Colab:',IN_COLAB)\n",
        "path='..'\n",
        "if IN_COLAB:\n",
        "  #in colab, we need to clone the data from the repo\n",
        "  !git clone https://github.com/keuperj/DataScienceSS20.git\n",
        "  path='DataScienceSS20'"
      ],
      "execution_count": 0,
      "outputs": [
        {
          "output_type": "stream",
          "text": [
            "running in Colab: False\n"
          ],
          "name": "stdout"
        }
      ]
    },
    {
      "cell_type": "code",
      "metadata": {
        "id": "e88GE5fsj2dZ",
        "colab_type": "code",
        "colab": {}
      },
      "source": [
        "print(\"hello\")"
      ],
      "execution_count": 0,
      "outputs": []
    },
    {
      "cell_type": "markdown",
      "metadata": {
        "id": "DiYJcFRhj2dn",
        "colab_type": "text"
      },
      "source": [
        "## Live Demo \n",
        "* Files\n",
        "* Notebooks\n",
        "* Terminal\n",
        "* Kernels\n",
        "* Keyboard Shortcuts\n",
        "* Save and Export"
      ]
    },
    {
      "cell_type": "markdown",
      "metadata": {
        "id": "o5dk57FNj2dp",
        "colab_type": "text"
      },
      "source": [
        "## Cells\n",
        "* Code vs Markup\n",
        "* Execute Cells"
      ]
    },
    {
      "cell_type": "markdown",
      "metadata": {
        "id": "kV0I4CL4j2dr",
        "colab_type": "text"
      },
      "source": [
        "## Markup Cells"
      ]
    },
    {
      "cell_type": "markdown",
      "metadata": {
        "id": "HpRlsQtmj2dt",
        "colab_type": "text"
      },
      "source": [
        "### Jupyter Markup\n"
      ]
    },
    {
      "cell_type": "markdown",
      "metadata": {
        "id": "NBLMA91Kj2dw",
        "colab_type": "text"
      },
      "source": [
        "#### Headings\n",
        "``` \n",
        "# Heading 1\n",
        "# Heading 2\n",
        "## Heading 2.1\n",
        "## Heading 2.2\n",
        "```\n"
      ]
    },
    {
      "cell_type": "markdown",
      "metadata": {
        "id": "wnNIq8GCj2dy",
        "colab_type": "text"
      },
      "source": [
        "#### Lists\n",
        "* a\n",
        "* bullet point list"
      ]
    },
    {
      "cell_type": "markdown",
      "metadata": {
        "id": "d4YoGcMlj2d0",
        "colab_type": "text"
      },
      "source": [
        "1. numbered\n",
        "2. list\n",
        "3. is possible"
      ]
    },
    {
      "cell_type": "markdown",
      "metadata": {
        "id": "u1eXCqRDj2d1",
        "colab_type": "text"
      },
      "source": [
        "#### Text Formating\n",
        "* *Italic*\n",
        "* **blod**\n",
        "* ***bold and italic***"
      ]
    },
    {
      "cell_type": "markdown",
      "metadata": {
        "id": "VYLFBX-Dj2d2",
        "colab_type": "text"
      },
      "source": [
        "#### Tables\n",
        "| This | is   |\n",
        "|------|------|\n",
        "|   a  | table|"
      ]
    },
    {
      "cell_type": "markdown",
      "metadata": {
        "id": "XCwPNwJcj2d4",
        "colab_type": "text"
      },
      "source": [
        "#### Latex Formulars \n",
        "You can write formulars in text, like $e^{i\\pi} + 1 = 0$.\n",
        "\n",
        "Or block equations\n",
        "\n",
        "$$e^x=\\sum_{i=0}^\\infty \\frac{1}{i!}x^i$$"
      ]
    },
    {
      "cell_type": "markdown",
      "metadata": {
        "id": "Sf_kWWw6j2d6",
        "colab_type": "text"
      },
      "source": [
        "#### Links\n",
        "Add links, like one to more information on latex [link](https://www.overleaf.com/learn/latex/Free_online_introduction_to_LaTeX_(part_1))"
      ]
    },
    {
      "cell_type": "markdown",
      "metadata": {
        "id": "2bQ38dlbj2d7",
        "colab_type": "text"
      },
      "source": [
        "#### HTML\n",
        "or simply write HTML code:\n",
        "\n",
        "<H3> HTML test</H3>\n",
        "<img src=\"https://github.com/keuperstudent/DataScienceSS20/blob/master/Notebooks/IMG/jupyter_logo.png?raw=1\" width=300>"
      ]
    },
    {
      "cell_type": "markdown",
      "metadata": {
        "id": "7ozPEhbNj2d8",
        "colab_type": "text"
      },
      "source": [
        "#### Source Code\n",
        "Python:\n",
        "```python\n",
        "print \"Hello World\"\n",
        "```\n",
        "\n",
        "Java Script\n",
        "```javascript\n",
        "console.log(\"Hello World\")\n",
        "```\n"
      ]
    },
    {
      "cell_type": "markdown",
      "metadata": {
        "id": "6Zpc6y_lj2d9",
        "colab_type": "text"
      },
      "source": [
        "## Code Cells"
      ]
    },
    {
      "cell_type": "code",
      "metadata": {
        "id": "2a-DNuZpj2d-",
        "colab_type": "code",
        "colab": {}
      },
      "source": [
        "print (\"this is python code\")"
      ],
      "execution_count": 0,
      "outputs": []
    },
    {
      "cell_type": "markdown",
      "metadata": {
        "id": "eSvajbaSj2eJ",
        "colab_type": "text"
      },
      "source": [
        "#### Autocompletion "
      ]
    },
    {
      "cell_type": "code",
      "metadata": {
        "id": "kpB07PQaj2eK",
        "colab_type": "code",
        "colab": {}
      },
      "source": [
        "a = \"This is a STRING\""
      ],
      "execution_count": 0,
      "outputs": []
    },
    {
      "cell_type": "code",
      "metadata": {
        "id": "tMtaYz9dj2eP",
        "colab_type": "code",
        "colab": {}
      },
      "source": [
        "# press tab to see the available methods \n",
        "a.l"
      ],
      "execution_count": 0,
      "outputs": []
    },
    {
      "cell_type": "markdown",
      "metadata": {
        "id": "khB58H2cj2eY",
        "colab_type": "text"
      },
      "source": [
        "#### API Documentation and Help"
      ]
    },
    {
      "cell_type": "code",
      "metadata": {
        "id": "gZq5ENHJj2eZ",
        "colab_type": "code",
        "colab": {}
      },
      "source": [
        "# add '?' in front of call\n"
      ],
      "execution_count": 0,
      "outputs": []
    },
    {
      "cell_type": "markdown",
      "metadata": {
        "id": "Ltd-EeErj2eg",
        "colab_type": "text"
      },
      "source": [
        "## System Calls\n",
        "Call OS cmd-line tools via the \"!\" opperator:"
      ]
    },
    {
      "cell_type": "code",
      "metadata": {
        "id": "hh20Hp4Gj2ej",
        "colab_type": "code",
        "colab": {}
      },
      "source": [
        "!ls -lha"
      ],
      "execution_count": 0,
      "outputs": []
    },
    {
      "cell_type": "markdown",
      "metadata": {
        "id": "rbYeH7xfj2ep",
        "colab_type": "text"
      },
      "source": [
        "## Magic-Commands\n",
        "Jupyter has build in, so-called \"magic commands\" (full list [https://ipython.readthedocs.io/en/stable/interactive/magics.html](here))"
      ]
    },
    {
      "cell_type": "code",
      "metadata": {
        "id": "rJx7_gJOj2eq",
        "colab_type": "code",
        "colab": {}
      },
      "source": [
        "#single runtime \n",
        "%time \n",
        "for i in range(1000):\n",
        "    pass"
      ],
      "execution_count": 0,
      "outputs": []
    },
    {
      "cell_type": "code",
      "metadata": {
        "id": "YkeKnym5j2ev",
        "colab_type": "code",
        "colab": {}
      },
      "source": [
        "#runtime test\n",
        "%timeit a=34*56"
      ],
      "execution_count": 0,
      "outputs": []
    },
    {
      "cell_type": "code",
      "metadata": {
        "id": "AR9Zm7Vqj2e4",
        "colab_type": "code",
        "colab": {}
      },
      "source": [
        "# load the autoreload extension\n",
        "%load_ext autoreload\n",
        "# Set extension to reload modules every time before executing code\n",
        "%autoreload 2\n"
      ],
      "execution_count": 0,
      "outputs": []
    },
    {
      "cell_type": "code",
      "metadata": {
        "id": "Ls9TQ5laj2e8",
        "colab_type": "code",
        "colab": {}
      },
      "source": [
        "a=5\n",
        "f=\"test\"\n",
        "# Outputs a list of all interactive variables in your environment\n",
        "%who_ls"
      ],
      "execution_count": 0,
      "outputs": []
    },
    {
      "cell_type": "code",
      "metadata": {
        "id": "kGr4DMVVj2fC",
        "colab_type": "code",
        "colab": {}
      },
      "source": [
        "# Reduces the output to interactive variables of type \"function\"\n",
        "%who_ls function"
      ],
      "execution_count": 0,
      "outputs": []
    },
    {
      "cell_type": "code",
      "metadata": {
        "id": "6g1J0JlIj2fN",
        "colab_type": "code",
        "colab": {}
      },
      "source": [
        ""
      ],
      "execution_count": 0,
      "outputs": []
    }
  ]
}